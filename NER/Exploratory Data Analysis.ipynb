{
 "cells": [
  {
   "cell_type": "markdown",
   "id": "dominant-celtic",
   "metadata": {},
   "source": [
    "# Exploratory Data Analysis\n",
    "Examine (by hand or collecting simple statistics) the train dataset and try to infer general rules that are right in most cases, even if they seldom apply (high precision, low recall)."
   ]
  },
  {
   "cell_type": "code",
   "execution_count": 26,
   "id": "abandoned-particle",
   "metadata": {},
   "outputs": [],
   "source": [
    "import sys\n",
    "from os import listdir\n",
    "import xml.etree.ElementTree as ET\n",
    "import string\n",
    "import pandas as pd\n",
    "import matplotlib.pyplot as plt\n",
    "import collections\n",
    "\n",
    "plt.rcParams['figure.figsize'] = (20, 10)"
   ]
  },
  {
   "cell_type": "code",
   "execution_count": 2,
   "id": "accurate-opposition",
   "metadata": {},
   "outputs": [],
   "source": [
    "datadir = \"/Users/mponsclo/Downloads/labAHLT/data/train\"\n",
    "#datadir = \"../labAHLT/data/train\"\n",
    "df = pd.DataFrame() # initialize Data Frame\n",
    "\n",
    "for f in listdir(datadir):\n",
    "        try:\n",
    "            filename = datadir + \"/\" + f\n",
    "            tree = ET.parse(filename) # Some file rose an error when parsing\n",
    "            root = tree.getroot()\n",
    "        \n",
    "            for elem in root:\n",
    "                for subelem in elem.findall('entity'):\n",
    "                    aux_df = pd.DataFrame({'Name': subelem.get('text'), 'Type': subelem.get('type')}, index=[0])\n",
    "                    df = df.append(aux_df)\n",
    "        except:\n",
    "            continue"
   ]
  },
  {
   "cell_type": "code",
   "execution_count": 3,
   "id": "parliamentary-minutes",
   "metadata": {},
   "outputs": [
    {
     "name": "stdout",
     "output_type": "stream",
     "text": [
      "Total DF rows: 11627\n",
      "Number of rows with UPPERCASE: 963\n",
      "Number of rows with Title Case: 1781\n",
      "Number of rows containing numbers: 2071\n"
     ]
    }
   ],
   "source": [
    "print(f'Total DF rows: {df.shape[0]}')\n",
    "print('Number of rows with UPPERCASE: {}'.format(df['Name'].str.isupper().sum()))\n",
    "print('Number of rows with Title Case: {}'.format(df['Name'].str.istitle().sum()))\n",
    "print('Number of rows containing numbers: {}'.format(df.shape[0] - df['Name'].str.isalpha().sum()))"
   ]
  },
  {
   "cell_type": "code",
   "execution_count": 6,
   "id": "entitled-operations",
   "metadata": {},
   "outputs": [
    {
     "name": "stdout",
     "output_type": "stream",
     "text": [
      "                                              Count\n",
      "PCP                                              22\n",
      "18-MC                                            16\n",
      "ibogaine                                         14\n",
      "1-methyl-4-phenyl-1,2,3,6-tetrahydropyridine     13\n",
      "MHD                                              12\n",
      "endotoxin                                        11\n",
      "dmPGE2                                           10\n",
      "beta-endorphin                                    9\n",
      "toxin A                                           9\n",
      "ginsenosides                                      8\n"
     ]
    }
   ],
   "source": [
    "# Analysis of Types\n",
    "\n",
    "group = df[df[\"Type\"] == \"group\"]\n",
    "brand = df[df[\"Type\"] == \"brand\"]\n",
    "drug = df[(df[\"Type\"]=='drug')]\n",
    "drug_n = df[df[\"Type\"]== \"drug_n\"]\n",
    "\n",
    "group_counts = pd.DataFrame({'Count' : group['Name'].value_counts()})\n",
    "brand_counts = pd.DataFrame({'Count' : brand['Name'].value_counts()})\n",
    "drug_counts = pd.DataFrame({'Count' : drug['Name'].value_counts()})\n",
    "drug_n_counts = pd.DataFrame({'Count' : drug_n['Name'].value_counts()})\n",
    "\n",
    "print(drug_n_counts.head(10))"
   ]
  },
  {
   "cell_type": "code",
   "execution_count": 7,
   "id": "silent-moore",
   "metadata": {},
   "outputs": [],
   "source": [
    "# Convert index to column for visual analysis\n",
    "\n",
    "drug_counts['Name'] = drug_counts.index\n",
    "drug_counts = drug_counts[[\"Name\", \"Count\"]]\n",
    "\n",
    "drug_n_counts['Name'] = drug_n_counts.index\n",
    "drug_n_counts = drug_n_counts[[\"Name\", \"Count\"]]\n",
    "\n",
    "group_counts['Name'] = group_counts.index\n",
    "group_counts = group_counts[[\"Name\", \"Count\"]]\n",
    "\n",
    "brand_counts['Name'] = brand_counts.index\n",
    "brand_counts = brand_counts[[\"Name\", \"Count\"]]\n",
    "\n",
    "# Save files for inspection\n",
    "#drug_counts.to_csv(r'/Users/mponsclo/Desktop/Drug_count.csv', index = False)\n",
    "#drug_n_counts.to_csv(r'/Users/mponsclo/Desktop/Drug_n_count.csv', index = False)\n",
    "#group_counts.to_csv(r'/Users/mponsclo/Desktop/Group_count.csv', index = False)\n",
    "#brand_counts.to_csv(r'/Users/mponsclo/Desktop/Brand_count.csv', index = False)\n",
    "\n",
    "#print(drug['Name'].str.isupper().sum())"
   ]
  },
  {
   "cell_type": "code",
   "execution_count": 9,
   "id": "trying-blues",
   "metadata": {},
   "outputs": [
    {
     "data": {
      "text/plain": [
       "Text(0.5, 0, '')"
      ]
     },
     "execution_count": 9,
     "metadata": {},
     "output_type": "execute_result"
    },
    {
     "data": {
      "image/png": "[encoded data removed]",
      "text/plain": [
       "<Figure size 576x360 with 1 Axes>"
      ]
     },
     "metadata": {
      "needs_background": "light"
     },
     "output_type": "display_data"
    }
   ],
   "source": [
    "# UPPERCASE TERMS\n",
    "df2 = pd.DataFrame({'lab' : ['Group', 'Brand', 'Drug_n', 'Drug'], 'Count' : [group['Name'].str.isupper().sum()/group.shape[0],\n",
    "                                                                            brand['Name'].str.isupper().sum()/brand.shape[0],\n",
    "                                                                            drug_n['Name'].str.isupper().sum()/drug_n.shape[0],\n",
    "                                                                            drug['Name'].str.isupper().sum()/drug.shape[0]]})\n",
    "\n",
    "ax = df2.plot.bar(x='lab', y = 'Count', figsize = (8,5), rot=0, legend = False)\n",
    "ax.set_xlabel(\"\")\n",
    "\n",
    "#print(group['Name'].str.isupper().sum()/group.shape[0])\n",
    "#print(brand['Name'].str.isupper().sum()/brand.shape[0])\n",
    "#print(drug_n['Name'].str.isupper().sum()/drug_n.shape[0])\n",
    "#print(drug['Name'].str.isupper().sum())"
   ]
  },
  {
   "cell_type": "code",
   "execution_count": 10,
   "id": "extended-disability",
   "metadata": {},
   "outputs": [
    {
     "data": {
      "text/plain": [
       "Text(0.5, 0, '')"
      ]
     },
     "execution_count": 10,
     "metadata": {},
     "output_type": "execute_result"
    },
    {
     "data": {
      "image/png": "[encoded data removed]",
      "text/plain": [
       "<Figure size 576x360 with 1 Axes>"
      ]
     },
     "metadata": {
      "needs_background": "light"
     },
     "output_type": "display_data"
    }
   ],
   "source": [
    "# WORDS CONTAINING NON ALPHABETIC CHARACTERS\n",
    "#print(group.shape[0] - group['Name'].str.isalpha().sum())\n",
    "#print(brand.shape[0] - brand['Name'].str.isalpha().sum())\n",
    "#print(drug.shape[0] - drug['Name'].str.isalpha().sum())\n",
    "#print(drug_n.shape[0] - drug_n['Name'].str.isalpha().sum())\n",
    "\n",
    "df3 = pd.DataFrame({'lab' : ['Group', 'Brand', 'Drug_n', 'Drug'], 'Count' : [group.shape[0] - group['Name'].str.isalpha().sum(),\n",
    "                                                                            brand.shape[0] - brand['Name'].str.isalpha().sum(),\n",
    "                                                                            drug.shape[0] - drug['Name'].str.isalpha().sum(),\n",
    "                                                                            drug_n.shape[0] - drug_n['Name'].str.isalpha().sum()]})\n",
    "\n",
    "ax = df3.plot.bar(x='lab', y = 'Count', figsize = (8,5), rot=0, legend = False)\n",
    "ax.set_xlabel(\"\")"
   ]
  },
  {
   "cell_type": "code",
   "execution_count": 11,
   "id": "julian-printing",
   "metadata": {},
   "outputs": [
    {
     "name": "stdout",
     "output_type": "stream",
     "text": [
      "0.10014892032762472\n"
     ]
    },
    {
     "data": {
      "image/png": "[encoded data removed]",
      "text/plain": [
       "<Figure size 576x360 with 1 Axes>"
      ]
     },
     "metadata": {
      "needs_background": "light"
     },
     "output_type": "display_data"
    }
   ],
   "source": [
    "# PRESENCE OF DIGITS\n",
    "df4 = pd.DataFrame({'lab' : ['Group', 'Brand', 'Drug_n', 'Drug'], 'Count' : [(group['Name'].apply(lambda word: 1 if True in [t in string.digits or t == '-' for t in word] else 0).sum())/group.shape[0],\n",
    "                                                                            (brand['Name'].apply(lambda word: 1 if True in [t in string.digits or t == '-' for t in word] else 0).sum())/brand.shape[0],\n",
    "                                                                            (drug['Name'].apply(lambda word: 1 if True in [t in string.digits or t == '-' for t in word] else 0).sum())/drug.shape[0],\n",
    "                                                                            (drug_n['Name'].apply(lambda word: 1 if True in [t in string.digits or t == '-' for t in word] else 0).sum())/drug.shape[0]]})\n",
    "\n",
    "ax = df4.plot.bar(x='lab', y = 'Count', figsize = (8,5), rot=0, legend = False)\n",
    "ax.set_xlabel(\"\")\n",
    "\n",
    "print((group['Name'].apply(lambda word: 1 if True in [t in string.digits or t == '-' for t in word] else 0).sum())/group.shape[0])"
   ]
  },
  {
   "cell_type": "code",
   "execution_count": 18,
   "id": "careful-alert",
   "metadata": {},
   "outputs": [
    {
     "name": "stdout",
     "output_type": "stream",
     "text": [
      "0.4426656738644825\n"
     ]
    },
    {
     "data": {
      "image/png": "[encoded data removed]",
      "text/plain": [
       "<Figure size 576x360 with 1 Axes>"
      ]
     },
     "metadata": {
      "needs_background": "light"
     },
     "output_type": "display_data"
    }
   ],
   "source": [
    "# PRESENCE OF SPACES\n",
    "df5 = pd.DataFrame({'lab' : ['Group', 'Brand', 'Drug_n', 'Drug'], 'Count' : [(group['Name'].apply(lambda word: 1 if True in [t == ' ' for t in word] else 0).sum())/group.shape[0],\n",
    "                                                                            (brand['Name'].apply(lambda word: 1 if True in [ t == ' ' for t in word] else 0).sum())/brand.shape[0],\n",
    "                                                                            (drug['Name'].apply(lambda word: 1 if True in [t == ' ' for t in word] else 0).sum())/drug.shape[0],\n",
    "                                                                            (drug_n['Name'].apply(lambda word: 1 if True in [t  == ' ' for t in word] else 0).sum())/drug.shape[0]]})\n",
    "\n",
    "ax = df5.plot.bar(x='lab', y = 'Count', figsize = (8,5), rot=0, legend = False)\n",
    "ax.set_xlabel(\"\")\n",
    "print((group['Name'].apply(lambda word: 1 if True in [t == ' ' for t in word] else 0).sum())/group.shape[0])"
   ]
  },
  {
   "cell_type": "markdown",
   "id": "backed-flash",
   "metadata": {},
   "source": [
    "#### Top Count Entities "
   ]
  },
  {
   "cell_type": "code",
   "execution_count": 12,
   "id": "noticed-textbook",
   "metadata": {},
   "outputs": [],
   "source": [
    "#ax = drug_counts[(drug_counts[\"Count\"] > 35)].plot.bar()\n",
    "#ax0 = drug_n_counts[(drug_n_counts[\"Count\"] > 6)].plot.bar(rot = 90)\n",
    "#ax1 = group_counts[(group_counts[\"Count\"] > 25)].plot.bar(rot = 45)\n",
    "#ax2 = brand_counts[(brand_counts[\"Count\"] > 13)].plot.bar(rot = 0)"
   ]
  },
  {
   "cell_type": "markdown",
   "id": "distinguished-planner",
   "metadata": {},
   "source": [
    "### Count Suffixes and Prefixes"
   ]
  },
  {
   "cell_type": "code",
   "execution_count": 50,
   "id": "ongoing-stroke",
   "metadata": {},
   "outputs": [],
   "source": [
    "def get_n_suffixes(df, n_suffix, top, plot=False):\n",
    "    array = df.values\n",
    "    suffixes = [x[-n_suffix:] for x in array]\n",
    "    w = collections.Counter(suffixes)\n",
    "    lst = w.most_common(top)\n",
    "    print(lst)\n",
    "    \n",
    "    if plot:\n",
    "        df = pd.DataFrame(lst, columns = ['Word', 'Count'])\n",
    "        df.plot.bar(x='Word', y='Count', rot = 0)\n",
    "\n",
    "def get_n_prefixes(df, n_prefix, top, plot=False):\n",
    "    array = df.values\n",
    "    prefixes = [x[:n_prefix] for x in array]\n",
    "    w = collections.Counter(prefixes)\n",
    "    lst = w.most_common(top)\n",
    "    print(lst)\n",
    "    \n",
    "    if plot:\n",
    "        df = pd.DataFrame(lst, columns = ['Word', 'Count'])\n",
    "        df.plot.bar(x='Word', y='Count', rot = 0)"
   ]
  },
  {
   "cell_type": "markdown",
   "id": "electoral-legislature",
   "metadata": {},
   "source": [
    "### Drug DataFrame"
   ]
  },
  {
   "cell_type": "code",
   "execution_count": 54,
   "id": "acceptable-nature",
   "metadata": {},
   "outputs": [
    {
     "name": "stdout",
     "output_type": "stream",
     "text": [
      "[('ine', 1756), ('ide', 482), ('cin', 377), ('ole', 296), ('one', 295), ('rin', 282), ('ate', 271), ('ium', 230), ('tin', 208), ('xin', 178), ('oin', 177), ('vir', 141), ('cid', 138), ('hol', 107), ('nol', 101), ('lin', 98), ('lam', 96), ('tan', 78), ('lol', 73), ('pin', 71)]\n"
     ]
    }
   ],
   "source": [
    "get_n_suffixes(drug['Name'], 3, 20, plot = False)"
   ]
  },
  {
   "cell_type": "code",
   "execution_count": 53,
   "id": "ancient-fault",
   "metadata": {},
   "outputs": [
    {
     "name": "stdout",
     "output_type": "stream",
     "text": [
      "[('dine', 307), ('pine', 285), ('zole', 283), ('mine', 265), ('arin', 241), ('line', 218), ('ycin', 198), ('mide', 190), ('rine', 184), ('toin', 177), ('oxin', 173), ('tine', 136), ('avir', 131), ('acin', 121), ('atin', 119), ('hium', 113), ('ride', 112), ('ohol', 105), ('olam', 96), ('done', 93)]\n"
     ]
    }
   ],
   "source": [
    "get_n_suffixes(drug['Name'], 4, 20, plot = False)"
   ]
  },
  {
   "cell_type": "code",
   "execution_count": 55,
   "id": "settled-melbourne",
   "metadata": {},
   "outputs": [
    {
     "name": "stdout",
     "output_type": "stream",
     "text": [
      "[('azole', 262), ('amine', 249), ('farin', 207), ('idine', 200), ('mycin', 198), ('ytoin', 174), ('goxin', 169), ('navir', 123), ('etine', 120), ('lline', 117), ('amide', 116), ('thium', 113), ('cohol', 105), ('zolam', 96), ('epine', 96), ('tatin', 93), ('ipine', 87), (' acid', 83), ('orine', 82), ('xacin', 72)]\n"
     ]
    }
   ],
   "source": [
    "get_n_suffixes(drug['Name'], 5, 20, plot = False)"
   ]
  },
  {
   "cell_type": "code",
   "execution_count": 56,
   "id": "classified-porter",
   "metadata": {},
   "outputs": [
    {
     "name": "stdout",
     "output_type": "stream",
     "text": [
      "[('phe', 213), ('met', 183), ('war', 171), ('dig', 147), ('pro', 137), ('flu', 127), ('ket', 115), ('the', 100), ('lit', 95), ('alc', 90), ('rif', 88), ('cyc', 87), ('car', 79), ('eth', 73), ('cim', 71), ('amp', 60), ('ery', 59), ('lev', 51), ('chl', 50), ('cis', 49)]\n"
     ]
    }
   ],
   "source": [
    "get_n_prefixes(drug['Name'], 3, 20, plot = False)"
   ]
  },
  {
   "cell_type": "code",
   "execution_count": 58,
   "id": "fitting-consultancy",
   "metadata": {},
   "outputs": [
    {
     "name": "stdout",
     "output_type": "stream",
     "text": [
      "[('phen', 213), ('warf', 171), ('digo', 145), ('meth', 120), ('keto', 100), ('theo', 100), ('lith', 95), ('alco', 90), ('rifa', 88), ('cycl', 87), ('carb', 77), ('cime', 71), ('prop', 68), ('eryt', 59), ('fluv', 59), ('fluo', 50), ('chlo', 50), ('morp', 45), ('hydr', 43), ('Apre', 42)]\n"
     ]
    }
   ],
   "source": [
    "get_n_prefixes(drug['Name'], 4, 20, plot = False)"
   ]
  },
  {
   "cell_type": "code",
   "execution_count": 59,
   "id": "aging-closing",
   "metadata": {},
   "outputs": [
    {
     "name": "stdout",
     "output_type": "stream",
     "text": [
      "[('warfa', 171), ('pheny', 153), ('digox', 145), ('theop', 100), ('lithi', 95), ('ketoc', 91), ('alcoh', 90), ('cyclo', 87), ('cimet', 71), ('carba', 71), ('rifam', 67), ('eryth', 59), ('metho', 56), ('pheno', 50), ('chlor', 50), ('fluox', 49), ('morph', 45), ('fluvo', 43), ('Aprep', 42), ('dilti', 39)]\n"
     ]
    }
   ],
   "source": [
    "get_n_prefixes(drug['Name'], 5, 20, plot = False)"
   ]
  },
  {
   "cell_type": "markdown",
   "id": "intelligent-reform",
   "metadata": {},
   "source": [
    "### Group DataFrame"
   ]
  },
  {
   "cell_type": "code",
   "execution_count": 62,
   "id": "packed-opposition",
   "metadata": {},
   "outputs": [
    {
     "name": "stdout",
     "output_type": "stream",
     "text": [
      "[('nts', 433), ('ics', 327), ('nes', 226), ('ors', 198), ('ids', 160), ('ugs', 117), ('ves', 106), ('ers', 91), ('tes', 89), ('ant', 76), ('des', 60), ('sts', 58), ('ins', 52), ('IDs', 50), ('tic', 40), ('oid', 32), ('tor', 30), ('ens', 30), ('ons', 25), ('TCA', 25)]\n",
      "[('tics', 262), ('ants', 250), ('tors', 193), ('ines', 186), ('ents', 183), ('rugs', 117), ('oids', 109), ('ives', 106), ('ates', 88), ('kers', 73), ('ides', 60), ('ists', 58), ('cids', 51), ('AIDs', 50), ('lant', 39), ('ones', 39), ('sant', 32), ('gens', 30), ('etic', 28), ('itor', 27)]\n",
      "[('gents', 180), ('itors', 176), ('sants', 150), ('etics', 134), ('otics', 113), ('drugs', 107), ('tives', 96), ('lants', 80), ('mines', 76), ('roids', 74), ('ckers', 73), ('rates', 67), ('nists', 58), ('acids', 51), ('SAIDs', 50), ('ulant', 39), ('zines', 38), ('pines', 36), ('ogens', 30), ('bitor', 27)]\n"
     ]
    }
   ],
   "source": [
    "get_n_suffixes(group['Name'], 3, 20, plot = False)\n",
    "get_n_suffixes(group['Name'], 4, 20, plot = False)\n",
    "get_n_suffixes(group['Name'], 5, 20, plot = False)"
   ]
  },
  {
   "cell_type": "code",
   "execution_count": 63,
   "id": "hollywood-affair",
   "metadata": {},
   "outputs": [
    {
     "name": "stdout",
     "output_type": "stream",
     "text": [
      "[('ant', 414), ('tri', 90), ('Ant', 76), ('cor', 65), ('bet', 64), ('MAO', 63), ('con', 60), ('diu', 60), ('NSA', 58), ('vit', 49), ('non', 44), ('phe', 41), ('bar', 41), ('thi', 39), ('ben', 37), ('hyp', 37), ('SSR', 37), ('cou', 33), ('TCA', 33), ('ACE', 32)]\n",
      "[('anti', 363), ('tric', 89), ('cort', 64), ('beta', 64), ('diur', 60), ('cont', 59), ('NSAI', 58), ('Anti', 57), ('anta', 51), ('vita', 49), ('MAO ', 41), ('phen', 41), ('barb', 41), ('benz', 37), ('SSRI', 37), ('thia', 35), ('coum', 33), ('mono', 32), ('anes', 30), ('ACE ', 30)]\n",
      "[('antic', 139), ('tricy', 89), ('antih', 73), ('corti', 64), ('diure', 60), ('contr', 59), ('NSAID', 58), ('antac', 51), ('vitam', 49), ('beta-', 43), ('antid', 41), ('barbi', 41), ('antib', 41), ('pheno', 39), ('benzo', 37), ('MAO i', 37), ('thiaz', 35), ('couma', 33), ('monoa', 32), ('anest', 30)]\n"
     ]
    }
   ],
   "source": [
    "get_n_prefixes(group['Name'], 3, 20, plot = False)\n",
    "get_n_prefixes(group['Name'], 4, 20, plot = False)\n",
    "get_n_prefixes(group['Name'], 5, 20, plot = False)"
   ]
  },
  {
   "cell_type": "markdown",
   "id": "dominant-cruise",
   "metadata": {},
   "source": [
    "### Brand DataFrame"
   ]
  },
  {
   "cell_type": "code",
   "execution_count": 64,
   "id": "static-friendship",
   "metadata": {},
   "outputs": [
    {
     "name": "stdout",
     "output_type": "stream",
     "text": [
      "[('rin', 67), ('CIN', 28), ('XOL', 25), ('SYS', 23), ('RON', 22), ('IVE', 21), ('OXX', 20), ('COR', 19), ('til', 18), ('DEX', 16), ('ase', 16), ('TIN', 16), ('tin', 15), ('tal', 15), ('OTM', 15), ('BEX', 15), ('VIL', 14), ('CEL', 14), ('DOL', 13), ('vec', 13)]\n",
      "[('irin', 65), ('OCIN', 28), ('AXOL', 25), ('ASYS', 23), ('IOXX', 20), ('itil', 18), ('VIVE', 15), ('ROTM', 15), ('MBEX', 15), ('IVIL', 14), ('ptal', 14), ('YCEL', 14), ('ADOL', 13), ('IDEX', 13), ('evec', 13), ('ntin', 12), ('BLOC', 12), ('CRON', 11), ('OCOR', 11), ('UKIN', 11)]\n",
      "[('pirin', 65), ('DOCIN', 28), ('TAXOL', 25), ('GASYS', 23), ('VIOXX', 20), ('xitil', 17), ('EVIVE', 15), ('TROTM', 15), ('IMBEX', 15), ('NIVIL', 14), ('eptal', 14), ('RYCEL', 14), ('RADOL', 13), ('VIDEX', 13), ('eevec', 13), ('IBLOC', 12), ('ACRON', 11), ('BOCOR', 11), ('EUKIN', 11), ('ontin', 10)]\n"
     ]
    }
   ],
   "source": [
    "get_n_suffixes(brand['Name'], 3, 20, plot = False)\n",
    "get_n_suffixes(brand['Name'], 4, 20, plot = False)\n",
    "get_n_suffixes(brand['Name'], 5, 20, plot = False)"
   ]
  },
  {
   "cell_type": "code",
   "execution_count": 65,
   "id": "industrial-billy",
   "metadata": {},
   "outputs": [
    {
     "name": "stdout",
     "output_type": "stream",
     "text": [
      "[('asp', 51), ('IND', 28), ('TAX', 25), ('PEG', 24), ('VIO', 20), ('Mex', 17), ('AME', 16), ('Tri', 15), ('PRO', 15), ('NIM', 15), ('PRI', 14), ('Asp', 14), ('EQU', 14), ('Bez', 14), ('SPR', 14), ('COP', 13), ('TOR', 13), ('VID', 13), ('Gle', 13), ('Nov', 12)]\n",
      "[('aspi', 51), ('INDO', 28), ('TAXO', 25), ('PEGA', 23), ('VIOX', 20), ('Mexi', 17), ('Tril', 15), ('AMEV', 15), ('NIMB', 15), ('PRIN', 14), ('Aspi', 14), ('EQUE', 14), ('Beza', 14), ('SPRY', 14), ('TORA', 13), ('VIDE', 13), ('Glee', 13), ('Novo', 12), ('BREV', 12), ('Maal', 11)]\n",
      "[('aspir', 51), ('INDOC', 28), ('TAXOL', 25), ('PEGAS', 23), ('VIOXX', 20), ('Mexit', 17), ('AMEVI', 15), ('NIMBE', 15), ('PRINI', 14), ('Aspir', 14), ('Trile', 14), ('EQUET', 14), ('Bezal', 14), ('SPRYC', 14), ('TORAD', 13), ('VIDEX', 13), ('Gleev', 13), ('BREVI', 12), ('Maalo', 11), ('MIVAC', 11)]\n"
     ]
    }
   ],
   "source": [
    "get_n_prefixes(brand['Name'], 3, 20, plot = False)\n",
    "get_n_prefixes(brand['Name'], 4, 20, plot = False)\n",
    "get_n_prefixes(brand['Name'], 5, 20, plot = False)"
   ]
  },
  {
   "cell_type": "markdown",
   "id": "substantial-audio",
   "metadata": {},
   "source": [
    "### Drug_n DataFrame"
   ]
  },
  {
   "cell_type": "code",
   "execution_count": 66,
   "id": "phantom-malawi",
   "metadata": {},
   "outputs": [
    {
     "name": "stdout",
     "output_type": "stream",
     "text": [
      "[('ine', 67), ('ate', 25), ('PCP', 22), ('ANM', 18), ('-MC', 16), ('sin', 15), ('xin', 13), ('tin', 12), ('MHD', 12), ('n A', 11), ('one', 10), ('nol', 10), ('ron', 10), ('GE2', 10), ('hin', 9), ('ide', 9), ('des', 9), ('rol', 9), ('PTX', 8), ('(V)', 8)]\n",
      "[('dine', 34), ('PCP', 22), ('NANM', 18), ('aine', 17), ('8-MC', 16), ('oxin', 13), ('rate', 12), ('MHD', 12), ('in A', 11), ('atin', 10), ('PGE2', 10), ('anol', 9), ('phin', 9), ('nate', 9), ('ides', 9), ('trol', 9), ('tone', 8), ('PTX', 8), ('s(V)', 8), ('aCMC', 8)]\n",
      "[('idine', 30), ('PCP', 22), ('gaine', 17), ('18-MC', 16), ('-NANM', 15), ('toxin', 13), ('MHD', 12), ('xin A', 11), ('tatin', 10), ('mPGE2', 10), ('rphin', 9), ('atrol', 9), ('etone', 8), ('panol', 8), ('PTX', 8), ('As(V)', 8), ('sides', 8), ('NaCMC', 8), ('trate', 7), ('RR', 7)]\n"
     ]
    }
   ],
   "source": [
    "get_n_suffixes(drug_n['Name'], 3, 20, plot = False)\n",
    "get_n_suffixes(drug_n['Name'], 4, 20, plot = False)\n",
    "get_n_suffixes(drug_n['Name'], 5, 20, plot = False)"
   ]
  },
  {
   "cell_type": "code",
   "execution_count": 67,
   "id": "naughty-messenger",
   "metadata": {},
   "outputs": [
    {
     "name": "stdout",
     "output_type": "stream",
     "text": [
      "[('PCP', 22), ('18-', 17), ('1,3', 16), ('(-)', 15), ('1-m', 14), ('ibo', 14), ('end', 13), ('MHD', 12), ('hyd', 11), ('gin', 10), ('dmP', 10), ('bet', 9), ('tox', 9), ('PTX', 8), ('As(', 8), ('3-[', 8), ('NaC', 8), ('con', 7), ('phe', 7), ('(+)', 7)]\n",
      "[('PCP', 22), ('18-M', 17), ('1,3-', 16), ('(-)-', 15), ('1-me', 14), ('ibog', 14), ('endo', 13), ('MHD', 12), ('hydr', 11), ('gins', 10), ('dmPG', 10), ('beta', 9), ('toxi', 9), ('PTX', 8), ('As(V', 8), ('3-[(', 8), ('NaCM', 8), ('cont', 7), ('phen', 7), ('(+)-', 7)]\n",
      "[('PCP', 22), ('1,3-d', 16), ('18-MC', 16), ('1-met', 14), ('iboga', 14), ('MHD', 12), ('hydro', 11), ('endot', 11), ('ginse', 10), ('dmPGE', 10), ('beta-', 9), ('toxin', 9), ('(-)-N', 8), ('PTX', 8), ('As(V)', 8), ('3-[(2', 8), ('NaCMC', 8), ('conto', 7), ('(-)-e', 7), ('(+)-N', 7)]\n"
     ]
    }
   ],
   "source": [
    "get_n_prefixes(drug_n['Name'], 3, 20, plot = False)\n",
    "get_n_prefixes(drug_n['Name'], 4, 20, plot = False)\n",
    "get_n_prefixes(drug_n['Name'], 5, 20, plot = False)"
   ]
  }
 ],
 "metadata": {
  "kernelspec": {
   "display_name": "MiriQ3",
   "language": "python",
   "name": "miriq3"
  },
  "language_info": {
   "codemirror_mode": {
    "name": "ipython",
    "version": 3
   },
   "file_extension": ".py",
   "mimetype": "text/x-python",
   "name": "python",
   "nbconvert_exporter": "python",
   "pygments_lexer": "ipython3",
   "version": "3.8.3"
  }
 },
 "nbformat": 4,
 "nbformat_minor": 5
}
